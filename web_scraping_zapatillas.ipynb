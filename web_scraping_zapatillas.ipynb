{
 "cells": [
  {
   "cell_type": "markdown",
   "metadata": {},
   "source": [
    "# WEB SCRAPING \n",
    "De la página web de venta de zapatillas deportivas https://deportesmoya.es/1585-zapatillas-baloncesto vamos a extraer el nombre del producto, el precio rebajado, el precio original, el descuento y el enlace a cada producto."
   ]
  },
  {
   "cell_type": "code",
   "execution_count": null,
   "metadata": {},
   "outputs": [],
   "source": [
    "# pip install beautifulsoup4\n"
   ]
  },
  {
   "cell_type": "code",
   "execution_count": 14,
   "metadata": {},
   "outputs": [],
   "source": [
    "import requests\n",
    "import re\n",
    "import pandas as pd\n",
    "import numpy as np\n",
    "from bs4 import BeautifulSoup # esta libreria es para extraer la información de la pagina web\n"
   ]
  },
  {
   "cell_type": "code",
   "execution_count": 47,
   "metadata": {},
   "outputs": [],
   "source": [
    "# vamos a crearnos un diccionario donde luego nos guardaremos todos los resultados de nuestras búsquedas: \n",
    "\n",
    "resultados_zapatillas = {\"producto\":[], \n",
    "                        \"precio_rebajado\": [], \n",
    "                        \"precio_original\": [], \n",
    "                         \"descuento\": [], \n",
    "                        \"enlaces\": []}"
   ]
  },
  {
   "cell_type": "code",
   "execution_count": 2,
   "metadata": {},
   "outputs": [],
   "source": [
    "url = \"https://deportesmoya.es/1585-zapatillas-baloncesto\" #url de la que sacaremos la información"
   ]
  },
  {
   "cell_type": "code",
   "execution_count": 3,
   "metadata": {},
   "outputs": [],
   "source": [
    "res1= requests.get(url) #llamamos a la url"
   ]
  },
  {
   "cell_type": "code",
   "execution_count": 4,
   "metadata": {},
   "outputs": [
    {
     "data": {
      "text/plain": [
       "200"
      ]
     },
     "execution_count": 4,
     "metadata": {},
     "output_type": "execute_result"
    }
   ],
   "source": [
    "res1.status_code #comprobamos el status de la llamada"
   ]
  },
  {
   "cell_type": "code",
   "execution_count": null,
   "metadata": {},
   "outputs": [],
   "source": [
    "# res1.content ver el contenido de la pagina"
   ]
  },
  {
   "cell_type": "code",
   "execution_count": 6,
   "metadata": {},
   "outputs": [],
   "source": [
    "sopa = BeautifulSoup(res1.content, \"html.parser\")"
   ]
  },
  {
   "cell_type": "code",
   "execution_count": 8,
   "metadata": {},
   "outputs": [
    {
     "data": {
      "text/plain": [
       "bs4.BeautifulSoup"
      ]
     },
     "execution_count": 8,
     "metadata": {},
     "output_type": "execute_result"
    }
   ],
   "source": [
    "type(sopa)"
   ]
  },
  {
   "cell_type": "code",
   "execution_count": 9,
   "metadata": {},
   "outputs": [],
   "source": [
    "productos = sopa.find_all(\"h3\", {\"class\":\"h3 product-title\"}) # esta configuración es de acuerdo a la inspección de la pagina web"
   ]
  },
  {
   "cell_type": "code",
   "execution_count": null,
   "metadata": {},
   "outputs": [],
   "source": [
    "productos"
   ]
  },
  {
   "cell_type": "code",
   "execution_count": 11,
   "metadata": {},
   "outputs": [
    {
     "data": {
      "text/plain": [
       "48"
      ]
     },
     "execution_count": 11,
     "metadata": {},
     "output_type": "execute_result"
    }
   ],
   "source": [
    "len(productos) #vemos la cantidad de productos extraidos"
   ]
  },
  {
   "cell_type": "code",
   "execution_count": 48,
   "metadata": {},
   "outputs": [
    {
     "data": {
      "text/plain": [
       "<h3 class=\"h3 product-title\"><a href=\"https://deportesmoya.es/zapatillas-adidas-ownthegame-20-gris-dorado-hombre-126442.html#/3402-tallaje_calzado_unisex-40_2_3\">Zapatillas adidas Ownthegame 2.0 gris dorado hombre</a></h3>"
      ]
     },
     "execution_count": 48,
     "metadata": {},
     "output_type": "execute_result"
    }
   ],
   "source": [
    "productos[0]"
   ]
  },
  {
   "cell_type": "code",
   "execution_count": 12,
   "metadata": {},
   "outputs": [
    {
     "data": {
      "text/plain": [
       "'Zapatillas adidas Ownthegame 2.0 gris dorado hombre'"
      ]
     },
     "execution_count": 12,
     "metadata": {},
     "output_type": "execute_result"
    }
   ],
   "source": [
    "productos[0].getText() # nombre del producto"
   ]
  },
  {
   "cell_type": "code",
   "execution_count": 50,
   "metadata": {},
   "outputs": [],
   "source": [
    "resultados_zapatillas = {\"producto\": [], \n",
    "                        \"precio_rebajado\": [], \n",
    "                        \"precio_original\": [], \n",
    "                        \"descuento\": [], \n",
    "                        \"enlaces\": []}\n",
    "for a in productos: \n",
    "    resultados_zapatillas[\"producto\"].append(a.getText())\n"
   ]
  },
  {
   "cell_type": "code",
   "execution_count": null,
   "metadata": {},
   "outputs": [],
   "source": [
    "resultados_zapatillas"
   ]
  },
  {
   "cell_type": "code",
   "execution_count": 22,
   "metadata": {},
   "outputs": [],
   "source": [
    "#lista de precios\n",
    "precios = sopa.find_all(\"span\", {\"class\": \"price\"})"
   ]
  },
  {
   "cell_type": "code",
   "execution_count": 23,
   "metadata": {},
   "outputs": [
    {
     "data": {
      "text/plain": [
       "48"
      ]
     },
     "execution_count": 23,
     "metadata": {},
     "output_type": "execute_result"
    }
   ],
   "source": [
    "len(precios)"
   ]
  },
  {
   "cell_type": "code",
   "execution_count": 52,
   "metadata": {},
   "outputs": [
    {
     "data": {
      "text/plain": [
       "'40,00\\xa0€'"
      ]
     },
     "execution_count": 52,
     "metadata": {},
     "output_type": "execute_result"
    }
   ],
   "source": [
    "precios[9].getText() #vemos que al obtener el precio no esta limpio"
   ]
  },
  {
   "cell_type": "code",
   "execution_count": 26,
   "metadata": {},
   "outputs": [],
   "source": [
    "# limpiamos los resultados: \n",
    "\n",
    "patron = '\\d+,\\d+'\n",
    "\n",
    "for precio in precios:\n",
    "    resultados_zapatillas[\"precio_rebajado\"].append(re.findall(patron, precio.getText())[0])"
   ]
  },
  {
   "cell_type": "code",
   "execution_count": null,
   "metadata": {},
   "outputs": [],
   "source": [
    "resultados_zapatillas"
   ]
  },
  {
   "cell_type": "code",
   "execution_count": 53,
   "metadata": {},
   "outputs": [],
   "source": [
    "precios_originales = sopa.select(\"span.regular-price\") # Sacamos los precios originales"
   ]
  },
  {
   "cell_type": "code",
   "execution_count": 54,
   "metadata": {},
   "outputs": [
    {
     "data": {
      "text/plain": [
       "[<span class=\"regular-price\"><span class=\"soy_price_principal\">70</span><span class=\"soy_price_separador\">,</span><span class=\"soy_price_secondary\">00 €</span></span>,\n",
       " <span class=\"regular-price\"><span class=\"soy_price_principal\">100</span><span class=\"soy_price_separador\">,</span><span class=\"soy_price_secondary\">00 €</span></span>]"
      ]
     },
     "execution_count": 54,
     "metadata": {},
     "output_type": "execute_result"
    }
   ],
   "source": [
    "precios_originales[:2]"
   ]
  },
  {
   "cell_type": "code",
   "execution_count": 55,
   "metadata": {},
   "outputs": [
    {
     "data": {
      "text/plain": [
       "'45,00\\xa0€'"
      ]
     },
     "execution_count": 55,
     "metadata": {},
     "output_type": "execute_result"
    }
   ],
   "source": [
    "precios_originales[2].getText()"
   ]
  },
  {
   "cell_type": "code",
   "execution_count": 56,
   "metadata": {},
   "outputs": [
    {
     "data": {
      "text/plain": [
       "dict_keys(['producto', 'precio_rebajado', 'precio_original', 'descuento', 'enlaces'])"
      ]
     },
     "execution_count": 56,
     "metadata": {},
     "output_type": "execute_result"
    }
   ],
   "source": [
    "resultados_zapatillas.keys()"
   ]
  },
  {
   "cell_type": "code",
   "execution_count": 57,
   "metadata": {},
   "outputs": [],
   "source": [
    "for precio in precios_originales:\n",
    "    resultados_zapatillas[\"precio_original\"].append(re.findall(patron, precio.getText())[0])"
   ]
  },
  {
   "cell_type": "code",
   "execution_count": null,
   "metadata": {},
   "outputs": [],
   "source": [
    "resultados_zapatillas"
   ]
  },
  {
   "cell_type": "code",
   "execution_count": 59,
   "metadata": {},
   "outputs": [],
   "source": [
    "enlaces = sopa.find_all(\"div\", {\"class\": \"thumbnail-container\"}) #Sacamos los enlaces"
   ]
  },
  {
   "cell_type": "code",
   "execution_count": null,
   "metadata": {},
   "outputs": [],
   "source": [
    "enlaces[0]"
   ]
  },
  {
   "cell_type": "code",
   "execution_count": 61,
   "metadata": {},
   "outputs": [
    {
     "data": {
      "text/plain": [
       "'Zapatillas adidas Ownthegame 2.0 gris dorado hombrePrecio59,50\\xa0€Precio normal70,00\\xa0€-15% \\n\\n\\n\\n\\n\\n\\ncancel El producto ha sido añadido a su lista de deseos correctamente.\\n\\n-15%\\nCantidad\\n\\n\\n\\n\\n\\n\\nAñadir a la cesta\\nAñadir a la cesta\\n\\n\\n\\n\\n\\n\\n\\n\\n\\ncancel El producto ha sido añadido a su lista de deseos correctamente.\\n\\nGuía de tallas\\n\\n\\n\\n\\n\\n\\n'"
      ]
     },
     "execution_count": 61,
     "metadata": {},
     "output_type": "execute_result"
    }
   ],
   "source": [
    "enlaces[0].getText() #vemos que de esta forma no lo podemos obtener revisamos como configurarlo"
   ]
  },
  {
   "cell_type": "code",
   "execution_count": 62,
   "metadata": {},
   "outputs": [
    {
     "data": {
      "text/plain": [
       "'https://deportesmoya.es/zapatillas-adidas-ownthegame-20-gris-dorado-hombre-126442.html#/3402-tallaje_calzado_unisex-40_2_3'"
      ]
     },
     "execution_count": 62,
     "metadata": {},
     "output_type": "execute_result"
    }
   ],
   "source": [
    "enlaces[0].find(\"a\").get(\"href\") #configuramos"
   ]
  },
  {
   "cell_type": "code",
   "execution_count": 63,
   "metadata": {},
   "outputs": [],
   "source": [
    "# ahora sacams los enlaces\n",
    "for enlace in enlaces: \n",
    "    resultados_zapatillas[\"enlaces\"].append(enlace.find(\"a\").get(\"href\"))"
   ]
  },
  {
   "cell_type": "code",
   "execution_count": 64,
   "metadata": {},
   "outputs": [],
   "source": [
    "descuento = sopa.find_all(\"li\", {\"class\": 'product-flag discount'}) # sacamos el descuento"
   ]
  },
  {
   "cell_type": "code",
   "execution_count": 65,
   "metadata": {},
   "outputs": [
    {
     "data": {
      "text/plain": [
       "[<li class=\"product-flag discount\">-15%</li>,\n",
       " <li class=\"product-flag discount\">-15%</li>]"
      ]
     },
     "execution_count": 65,
     "metadata": {},
     "output_type": "execute_result"
    }
   ],
   "source": [
    "descuento[:2] "
   ]
  },
  {
   "cell_type": "code",
   "execution_count": 66,
   "metadata": {},
   "outputs": [
    {
     "data": {
      "text/plain": [
       "'-15%'"
      ]
     },
     "execution_count": 66,
     "metadata": {},
     "output_type": "execute_result"
    }
   ],
   "source": [
    "descuento[2].getText()"
   ]
  },
  {
   "cell_type": "code",
   "execution_count": 67,
   "metadata": {},
   "outputs": [],
   "source": [
    "for desc in descuento:\n",
    "    resultados_zapatillas[\"descuento\"].append(desc.getText())"
   ]
  },
  {
   "cell_type": "markdown",
   "metadata": {},
   "source": [
    "Convertimos en dataframe"
   ]
  },
  {
   "cell_type": "code",
   "execution_count": null,
   "metadata": {},
   "outputs": [],
   "source": [
    "df_zapatillas = pd.DataFrame(resultados_zapatillas)"
   ]
  }
 ],
 "metadata": {
  "kernelspec": {
   "display_name": "Python 3.9.7 ('base')",
   "language": "python",
   "name": "python3"
  },
  "language_info": {
   "codemirror_mode": {
    "name": "ipython",
    "version": 3
   },
   "file_extension": ".py",
   "mimetype": "text/x-python",
   "name": "python",
   "nbconvert_exporter": "python",
   "pygments_lexer": "ipython3",
   "version": "3.9.7"
  },
  "orig_nbformat": 4,
  "vscode": {
   "interpreter": {
    "hash": "328661ec968ebc77b93161299d44fd1f4547ee33c9a17c5e95f23064c7c08def"
   }
  }
 },
 "nbformat": 4,
 "nbformat_minor": 2
}
